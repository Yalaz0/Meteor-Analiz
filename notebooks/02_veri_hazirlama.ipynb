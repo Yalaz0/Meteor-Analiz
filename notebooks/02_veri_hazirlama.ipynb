{
 "cells": [
  {
   "cell_type": "code",
   "execution_count": 1,
   "id": "881c9b45-f219-4c07-897b-b5c00dcbbefc",
   "metadata": {},
   "outputs": [
    {
     "name": "stderr",
     "output_type": "stream",
     "text": [
      "100%|█████████████████████████████████████████████████████████████████████████████| 7342/7342 [00:09<00:00, 799.39it/s]\n"
     ]
    }
   ],
   "source": [
    "import geopandas as gpd\n",
    "import pandas as pd\n",
    "from shapely.geometry import Point\n",
    "from tqdm import tqdm\n",
    "\n",
    "# 🔹 Meteor verisini yükle\n",
    "meteor_df = pd.read_csv(\"../data/meteorite-landings.csv\")\n",
    "\n",
    "# GeoLocation varsa, lat/lon üret\n",
    "meteor_df_geo = meteor_df.dropna(subset=['GeoLocation']).copy()\n",
    "meteor_df_geo[['lat_from_geo', 'lon_from_geo']] = (\n",
    "    meteor_df_geo['GeoLocation']\n",
    "    .str.replace('[()]', '', regex=True)\n",
    "    .str.split(',', expand=True)\n",
    "    .astype(float)\n",
    ")\n",
    "\n",
    "# GeoDataFrame'e dönüştür\n",
    "geometry = [Point(xy) for xy in zip(meteor_df_geo[\"lon_from_geo\"], meteor_df_geo[\"lat_from_geo\"])]\n",
    "meteor_gdf = gpd.GeoDataFrame(meteor_df_geo, geometry=geometry, crs=\"EPSG:4326\")\n",
    "\n",
    "# 🔹 Yerleşim verisini shapefile'dan yükle\n",
    "cities_gdf = gpd.read_file(\"../data/ne_10m_populated_places/ne_10m_populated_places.shp\")\n",
    "\n",
    "# EPSG:3857'e dönüştür (mesafe için gerekli)\n",
    "cities_proj = cities_gdf.to_crs(epsg=3857)\n",
    "meteor_proj = meteor_gdf.to_crs(epsg=3857)\n",
    "\n",
    "# 🔹 Şehirler için en yakın meteor mesafesini hesapla\n",
    "tqdm.pandas()\n",
    "def nearest_meteor_distance(city_point, meteor_points):\n",
    "    return meteor_points.geometry.distance(city_point).min()\n",
    "\n",
    "cities_proj['min_meteor_distance_m'] = cities_proj.geometry.progress_apply(\n",
    "    lambda x: nearest_meteor_distance(x, meteor_proj)\n",
    ")\n"
   ]
  },
  {
   "cell_type": "code",
   "execution_count": 2,
   "id": "024440b8-e559-471d-b83d-69f0ac17d92e",
   "metadata": {},
   "outputs": [],
   "source": [
    "from sklearn.cluster import KMeans\n",
    "import numpy as np\n",
    "\n",
    "# EPSG:4326 üzerinden KMeans için koordinatlar\n",
    "coords = np.array(list(zip(meteor_gdf.geometry.x, meteor_gdf.geometry.y)))\n",
    "\n",
    "kmeans = KMeans(n_clusters=8, random_state=42, n_init=10)\n",
    "meteor_gdf['cluster'] = kmeans.fit_predict(coords)\n"
   ]
  },
  {
   "cell_type": "code",
   "execution_count": 3,
   "id": "34801388-09f6-40ef-ba7a-30ced31c8c6c",
   "metadata": {},
   "outputs": [
    {
     "name": "stdout",
     "output_type": "stream",
     "text": [
      "Veriler başarıyla kaydedildi ve 'processed' klasörüne aktarıldı.\n"
     ]
    }
   ],
   "source": [
    "# Gerekli klasör yoksa oluştur\n",
    "import os\n",
    "os.makedirs(\"../data/processed\", exist_ok=True)\n",
    "\n",
    "# Kaydet\n",
    "cities_proj.to_file(\"../data/processed/cities_proj.geojson\", driver=\"GeoJSON\")\n",
    "meteor_gdf.to_file(\"../data/processed/meteor_gdf.geojson\", driver=\"GeoJSON\")\n",
    "\n",
    "print(\"Veriler başarıyla kaydedildi ve 'processed' klasörüne aktarıldı.\")\n"
   ]
  },
  {
   "cell_type": "code",
   "execution_count": 4,
   "id": "086821b3-e452-46b5-a078-63b2dfbf38aa",
   "metadata": {},
   "outputs": [
    {
     "name": "stdout",
     "output_type": "stream",
     "text": [
      "✅ Veri hazırlığı tamamlandı.\n",
      "🎯 Eğitim seti: 5873 kayıt\n",
      "🧪 Test seti: 1469 kayıt\n",
      "📊 Özellikler: ['min_meteor_distance_m', 'continent_Asia', 'continent_Australia', 'continent_Europe', 'continent_North America', 'continent_Other', 'continent_South America']\n"
     ]
    }
   ],
   "source": [
    "import pandas as pd\n",
    "import geopandas as gpd\n",
    "from sklearn.model_selection import train_test_split\n",
    "\n",
    "# 1️⃣ Daha önce işlenmiş ve kaydedilmiş dosyaları yükle\n",
    "cities_proj = gpd.read_file(\"../data/processed/cities_proj.geojson\")\n",
    "meteor_gdf = gpd.read_file(\"../data/processed/meteor_gdf.geojson\")\n",
    "\n",
    "# 2️⃣ Koordinat sistemini EPSG:4326'ya döndür (kıta tespiti için)\n",
    "cities_deg = cities_proj.to_crs(epsg=4326).copy()\n",
    "\n",
    "# 3️⃣ Kıta (continent) etiketlerini koordinatlara göre ata\n",
    "def assign_continent(row):\n",
    "    x, y = row.geometry.x, row.geometry.y\n",
    "    if -30 <= x <= 50 and 35 <= y <= 70:\n",
    "        return 'Europe'\n",
    "    elif 50 <= x <= 150 and 0 <= y <= 60:\n",
    "        return 'Asia'\n",
    "    elif -170 <= x <= -30 and 10 <= y <= 80:\n",
    "        return 'North America'\n",
    "    elif -20 <= x <= 50 and -35 <= y <= 35:\n",
    "        return 'Africa'\n",
    "    elif -80 <= x <= -30 and -60 <= y <= -10:\n",
    "        return 'South America'\n",
    "    elif 110 <= x <= 180 and -50 <= y <= -10:\n",
    "        return 'Australia'\n",
    "    else:\n",
    "        return 'Other'\n",
    "\n",
    "cities_deg['continent'] = cities_deg.apply(assign_continent, axis=1)\n",
    "\n",
    "# 4️⃣ Zaman bilgisi varsa, yıl ve on yıllık dönem (decade) ekle\n",
    "if 'year' in cities_deg.columns:\n",
    "    cities_deg['year'] = pd.to_numeric(cities_deg['year'], errors='coerce')\n",
    "    cities_deg['decade'] = (cities_deg['year'] // 10 * 10).astype('Int64')  # eksikse boş kalır\n",
    "\n",
    "# 5️⃣ Eksik mesafe verisini temizle\n",
    "clean_data = cities_deg.dropna(subset=['min_meteor_distance_m'])\n",
    "\n",
    "# 6️⃣ Kategorik: continent → dummies (model için uygun hale getirme)\n",
    "clean_data = pd.get_dummies(clean_data, columns=['continent'], drop_first=True)\n",
    "\n",
    "# 7️⃣ Hedef değişken: 500km altı şehirler yakın = 1, uzak = 0\n",
    "clean_data['near_meteor'] = (clean_data['min_meteor_distance_m'] < 500_000).astype(int)\n",
    "\n",
    "# 8️⃣ Girdi ve hedef değişkenlerin ayrılması\n",
    "feature_cols = ['min_meteor_distance_m'] + [col for col in clean_data.columns if col.startswith('continent_')]\n",
    "X = clean_data[feature_cols]\n",
    "y = clean_data['near_meteor']\n",
    "\n",
    "# 9️⃣ Eğitim/test seti oluştur\n",
    "X_train, X_test, y_train, y_test = train_test_split(X, y, test_size=0.2, random_state=42)\n",
    "\n",
    "# 🔟 Özet\n",
    "print(\"✅ Veri hazırlığı tamamlandı.\")\n",
    "print(f\"🎯 Eğitim seti: {X_train.shape[0]} kayıt\")\n",
    "print(f\"🧪 Test seti: {X_test.shape[0]} kayıt\")\n",
    "print(f\"📊 Özellikler: {X_train.columns.tolist()}\")\n"
   ]
  },
  {
   "cell_type": "code",
   "execution_count": null,
   "id": "284d4e7e-1e1b-42ae-9d2f-f2da58cf5487",
   "metadata": {},
   "outputs": [],
   "source": []
  }
 ],
 "metadata": {
  "kernelspec": {
   "display_name": "Python 3 (ipykernel)",
   "language": "python",
   "name": "python3"
  },
  "language_info": {
   "codemirror_mode": {
    "name": "ipython",
    "version": 3
   },
   "file_extension": ".py",
   "mimetype": "text/x-python",
   "name": "python",
   "nbconvert_exporter": "python",
   "pygments_lexer": "ipython3",
   "version": "3.11.7"
  }
 },
 "nbformat": 4,
 "nbformat_minor": 5
}
