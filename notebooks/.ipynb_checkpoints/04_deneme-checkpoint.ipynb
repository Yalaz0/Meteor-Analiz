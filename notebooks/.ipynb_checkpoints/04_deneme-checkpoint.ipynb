{
 "cells": [
  {
   "cell_type": "markdown",
   "id": "1c5f703f-fdab-4bed-ad1b-b24393cc2c73",
   "metadata": {},
   "source": [
    "🧩 1. Ana Bulguların Özeti\n",
    "Bu çalışmada, insanların yerleşim tercihleri ile meteor düşüş noktaları arasında istatistiksel ve mekânsal bir ilişki olup olmadığı araştırılmıştır. 38.000'den fazla meteor düşüş kaydı ile 7.300’den fazla şehir konumu analiz edilerek her şehir için en yakın meteorla olan mesafe hesaplanmıştır. Elde edilen bulgulara göre, şehirlerin %85.49’u en yakın meteora 500 kilometre veya daha az uzaklıkta konumlanmıştır. Bu sonuç, şehirlerin rastgele bir dağılıma sahip olmadığını, aksine meteor düşüşlerinin yoğunlaştığı bölgelerde belirgin şekilde kümelendiğini ortaya koymaktadır. Ek olarak, Logistic Regression, Random Forest ve XGBoost gibi farklı makine öğrenmesi modelleri ile yapılan sınıflandırmalar %86’nın üzerinde doğrulukla şehirlerin “meteor yakınlığı” durumunu öngörebilmiştir. DBSCAN ve HDBSCAN gibi kümeleme algoritmaları ile yapılan mekânsal analizler sonucunda ise meteorların yoğunlaştığı bölgeler belirlenmiş ve bu kümelerin çevresinde şehirleşmenin de yoğunlaştığı gözlemlenmiştir. Zaman serisi analizinde ise özellikle 1950 sonrası meteor gözlemlerinde ciddi bir artış kaydedilmiş; bu artışın şehirleşme ve gözlem teknolojilerinin gelişmesiyle paralel olduğu düşünülmektedir."
   ]
  },
  {
   "cell_type": "markdown",
   "id": "c78ff5ac-4bbe-460c-8123-11ac416f6a93",
   "metadata": {},
   "source": [
    "### 🧩 1. Ana Bulguların Özeti\n",
    "\n",
    "Bu çalışmada, insanların yerleşim tercihleri ile meteor düşüş noktaları arasında **istatistiksel ve mekânsal bir ilişki** olup olmadığı araştırılmıştır.  \n",
    "38.000'den fazla meteor düşüş kaydı ile 7.300’den fazla şehir konumu analiz edilerek her şehir için **en yakın meteorla olan mesafe** hesaplanmıştır.\n",
    "\n",
    "Elde edilen bulgulara göre:\n",
    "\n",
    "- Şehirlerin **%85.49’u**, en yakın meteora **500 kilometre veya daha az uzaklıkta** konumlanmıştır.\n",
    "- Bu durum, şehirlerin **rastgele dağılmadığını**, meteor düşüşlerinin yoğunlaştığı bölgelerde **kümelendiğini** göstermektedir.\n",
    "\n",
    "Ek olarak:\n",
    "\n",
    "- **Makine öğrenmesi modelleri** (Logistic Regression, Random Forest, XGBoost), şehirlerin “meteor yakınlığı” durumunu **%86’nın üzerinde doğrulukla** tahmin edebilmiştir.\n",
    "- **DBSCAN ve HDBSCAN kümeleme analizleri**, meteor düşüşlerinin yoğunlaştığı bölgeleri ortaya çıkarmış; bu bölgelerde şehirleşmenin de yüksek olduğu gözlemlenmiştir.\n",
    "- **Zaman serisi analizleri**, özellikle **1950 sonrası meteor gözlemlerinde ani bir artış** olduğunu ortaya koymuştur. Bu artışın şehirleşme süreci ve teknolojik gelişmelerle ilişkili olduğu düşünülmektedir.\n"
   ]
  },
  {
   "cell_type": "markdown",
   "id": "ca88bfbb-064a-43cf-932e-1aa63151d5fa",
   "metadata": {},
   "source": [
    "🧠 2. Sonuçların Yorumlanması\n",
    "Elde edilen bulgular, çalışmanın temel hipotezini büyük ölçüde desteklemektedir: İnsanlar tarih boyunca meteorların düştüğü bölgelerde yaşam kurmuş olabilir. %85.49 oranında şehirlerin bir meteora 500 km'den daha kısa mesafede bulunması, bu yerleşimlerin coğrafi olarak rastgele dağılmadığını, aksine belirli çekim alanlarına yöneldiğini göstermektedir. Bu durum, meteorların düştüğü bölgelerdeki yüksek maden ve mineral yoğunluğunun, ekonomik cazibe yaratarak insan yerleşimini etkilemiş olabileceği savını güçlendirir. Ayrıca, makine öğrenmesi modelleri ile şehirlerin meteor yakınlığına göre başarılı bir şekilde sınıflandırılabilmesi, bu coğrafi örüntünün istatistiksel olarak da anlamlı olduğunu ortaya koymaktadır. Bu analizler, yalnızca mekânsal yakınlığı değil, aynı zamanda bu yakınlığın öngörülebilir ve tekrar edilebilir bir örüntüye sahip olduğunu da göstermiştir. Dolayısıyla, çalışmanın bulguları hem mekânsal hem de sayısal verilerle hipotezin güçlü bir şekilde desteklendiğini göstermektedir"
   ]
  },
  {
   "cell_type": "markdown",
   "id": "11b5cf4e-35d5-4ecb-86c4-3df5eb3c38f6",
   "metadata": {},
   "source": [
    "### 🧠 2. Sonuçların Yorumlanması\n",
    "\n",
    "Elde edilen bulgular, çalışmanın temel hipotezini büyük ölçüde desteklemektedir:  \n",
    "**İnsanlar tarih boyunca meteorların düştüğü bölgelerde yaşam kurmuş olabilir.**\n",
    "\n",
    "- **%85.49 oranında şehir**, en yakın meteora **500 km'den daha kısa mesafede** yer almaktadır.  \n",
    "Bu durum, yerleşimlerin **coğrafi olarak rastgele dağılmadığını**, aksine **belirli çekim alanlarına yöneldiğini** göstermektedir.\n",
    "\n",
    "- Meteor düşüşlerinin yoğunlaştığı bölgelerde **yüksek maden ve mineral zenginliği** bulunması, bu bölgelerin tarih boyunca **ekonomik cazibe merkezi** haline gelmiş olabileceğini düşündürmektedir.\n",
    "\n",
    "- Ayrıca, **makine öğrenmesi modelleri** ile şehirlerin meteor yakınlığına göre **başarılı bir şekilde sınıflandırılması**, bu coğrafi örüntünün **istatistiksel olarak anlamlı** olduğunu göstermektedir.\n",
    "\n",
    "Bu analizler, yalnızca mekânsal yakınlığı değil, aynı zamanda bu yakınlığın **öngörülebilir ve tekrar edilebilir bir örüntü** içerdiğini de ortaya koymuştur.  \n",
    "Dolayısıyla, çalışma sonuçları hem **mekânsal** hem de **sayısal veriler** ile hipotezin **güçlü bir şekilde desteklendiğini** göstermektedir.\n"
   ]
  },
  {
   "cell_type": "markdown",
   "id": "12326747-65f4-448c-a732-5792810b5016",
   "metadata": {},
   "source": [
    "📚 3. Önceki Çalışmalarla Karşılaştırma\n",
    "Bu çalışma, yerleşim coğrafyası ile gök cisimleri arasındaki ilişkiyi analiz eden sınırlı sayıdaki araştırmalardan biri olarak literatürde özgün bir yer edinmektedir. Daha önceki çalışmalar çoğunlukla meteor düşüşlerinin fiziksel ve kimyasal etkilerine odaklanmış; yer kabuğundaki izleri, oluşan kraterleri veya çevresel etkileri incelemiştir. Ancak insan yerleşimlerinin bu tür olaylarla mekânsal bağını kuran kapsamlı analizlere nadiren rastlanmaktadır. Örneğin, bazı arkeolojik araştırmalar tarih öncesi toplulukların maden zengini bölgelerde yoğunlaştığını belirtmiş, ancak bu bölgelerin meteor düşüş geçmişiyle örtüşüp örtüşmediğini doğrudan test etmemiştir. Bu bağlamda, bizim çalışmamız meteor verisi ile şehir konumlarını büyük ölçekli bir analizle eşleştirmesi ve bu ilişkiyi makine öğrenmesiyle istatistiksel olarak test etmesi açısından literatüre yeni ve güçlü bir katkı sunmaktadır. Ayrıca, bu proje yalnızca geçmişi değil, gelecekteki şehir planlama veya arkeolojik saha seçimlerine dair de yeni bakış açıları sunabilecek niteliktedir."
   ]
  },
  {
   "cell_type": "markdown",
   "id": "58466e52-ce95-4e41-b46a-8b9c07299447",
   "metadata": {},
   "source": [
    "### 📚 3. Önceki Çalışmalarla Karşılaştırma\r\n",
    "\r\n",
    "Bu çalışma, **yerleşim coğrafyası ile gök cisimleri arasındaki ilişkiyi analiz eden** sınırlı sayıdaki araştırmalardan biri olarak literatürde **özgün bir yer** edinmektedir.\r\n",
    "\r\n",
    "- Daha önceki çalışmalar çoğunlukla **meteor düşüşlerinin fiziksel ve kimyasal etkilerine** odaklanmıştır:\r\n",
    "  - Krater oluşumları  \r\n",
    "  - Yer kabuğundaki izler  \r\n",
    "  - Çevresel tahribatlar\r\n",
    "\r\n",
    "- Ancak, **insan yerleşimlerinin bu doğa olaylarıyla mekânsal ilişkisini** analiz eden çalışmalar oldukça nadirdir.\r\n",
    "\r\n",
    "Örneğin:\r\n",
    "- Bazı arkeolojik bulgular, tarih öncesi toplulukların **maden açısından zengin bölgelere** yöneldiğini ortaya koymuştur.  \r\n",
    "- Ancak bu bölgelerin **meteor geçmişi ile ilişkisi** bugüne kadar **doğrudan test edilmemiştir.**\r\n",
    "\r\n",
    "🚀 Bu çalışma:\r\n",
    "- Meteor verisi ile şehir konumlarını **büyük ölçekli analizle** eşleştirmiştir.\r\n",
    "- Makine öğrenmesi teknikleriyle bu ilişkiyi **istatistiksel olarak modellemiştir.**\r\n",
    "- Bu yönüyle literatüre **yeni ve güçlü bir katkı** sunmaktadır.\r\n",
    "\r\n",
    "Ayrıca çalışma, yalnızca geçmişi değil, **gelecekteki şehir planlama** veya **arkeolojik saha seçimleri** açısından da **yeni bakış açıları** sunabilecek niteliktedir.\r\n"
   ]
  },
  {
   "cell_type": "markdown",
   "id": "dcce55d8-784e-4b89-93c0-8d60dcc73126",
   "metadata": {},
   "source": [
    "🎭 4. Beklenmeyen Bulguların Tartışılması\n",
    "Analiz sürecinde bazı beklenmeyen sonuçlar da ortaya çıkmıştır. İlk olarak, şehirlerin %85’inin meteorlara 500 km’den daha yakın olması şaşırtıcı derecede yüksek bir orandır. Başlangıçta bu kadar güçlü bir mekânsal yakınlık beklenmemekteydi. Ayrıca, makine öğrenmesi modellerinin (özellikle ağaç tabanlı algoritmaların) yalnızca mesafe ve kıta konumuna bakarak şehirlerin “meteor yakını” olup olmadığını %86’nın üzerinde bir doğrulukla tahmin edebilmesi, bu ilişkinin sadece coğrafi değil, istatistiksel olarak da belirgin olduğunu göstermektedir. Bununla birlikte, DBSCAN kümeleme analizinde bazı bölgelerde meteor yoğunluğu tespit edilmesine rağmen bu kümelerin yakınında herhangi bir yerleşim birimi bulunmaması dikkat çekicidir. Bu durum, bazı bölgelerin yerleşime uygun olmaması (örneğin çöller, kutup bölgeleri) ya da tarihi yerleşim izlerinin günümüzde silinmiş olabileceği ihtimallerini gündeme getirmiştir. Ayrıca, zaman serisi analizinde 1950 sonrası meteor kayıtlarında büyük bir artış görülmesi de doğrudan meteor düşüşlerinin değil, kayıt teknolojilerinin gelişmesiyle ilişkili olabilir. Bu tür sonuçlar, analizlerin dikkatli yorumlanması gerektiğini ve her güçlü bulgunun mutlaka nedensellik anlamına gelmediğini bize hatırlatmaktadır."
   ]
  },
  {
   "cell_type": "markdown",
   "id": "0ebb2501-bb29-4d33-a46d-815783f5854a",
   "metadata": {},
   "source": [
    "### 🎭 4. Beklenmeyen Bulguların Tartışılması\n",
    "\n",
    "Analiz sürecinde bazı **beklenmeyen ve dikkat çekici bulgular** elde edilmiştir:\n",
    "\n",
    "- 🌐 İlk olarak, **şehirlerin %85.49’unun meteorlara 500 km’den daha yakın olması**, hipotez öncesi beklentilerin üzerindedir. Bu kadar güçlü bir **mekânsal yakınlık** başlangıçta öngörülmemişti.\n",
    "\n",
    "- 🤖 Makine öğrenmesi modelleri, yalnızca **mesafe ve kıta bilgisine dayanarak**, şehirlerin “meteor yakını” olup olmadığını **%86’nın üzerinde bir doğrulukla** tahmin edebilmiştir.  \n",
    "  Bu durum, coğrafi örüntünün **istatistiksel olarak da güçlü bir ilişki** sergilediğini göstermektedir.\n",
    "\n",
    "- 🧭 DBSCAN ile yapılan kümeleme analizlerinde bazı bölgelerde **yüksek meteor yoğunluğu tespit edilmiştir**, ancak bu kümelerin çevresinde **hiçbir yerleşim birimi** bulunmamaktadır.\n",
    "  - Bu durumun olası nedenleri:\n",
    "    - 🌵 Yerleşime uygun olmayan doğa koşulları (çöl, kutup, dağlık alanlar)\n",
    "    - 🏺 Tarihi yerleşimlerin günümüze ulaşmamış olması\n",
    "\n",
    "- ⏳ Zaman serisi analizinde 1950 sonrası **meteor kayıtlarında dramatik bir artış** gözlemlenmiştir.\n",
    "  - Bu artış, meteorların daha sık düşmesinden değil, muhtemelen:\n",
    "    - 📡 Gelişen gözlem teknolojileri\n",
    "    - 🛰️ Uydu sistemleri\n",
    "    - 📓 Artan kayıt disiplini ile ilişkilidir.\n",
    "\n",
    "🔍 Bu tür sonuçlar, verilerin **nedensellikten çok korelasyon** sunduğunu ve **yorumlamalarda dikkatli olunması gerektiğini** hatırlatmaktadır.\n"
   ]
  },
  {
   "cell_type": "markdown",
   "id": "0277072b-878c-406a-88d7-111749083a76",
   "metadata": {},
   "source": [
    "🚧 5. Çalışmanın Sınırlılıkları\n",
    "Bu araştırma, güçlü verilerle desteklenen bulgular sunsa da bazı önemli sınırlılıklar taşımaktadır. Öncelikle kullanılan meteor veri seti, yalnızca tespit edilmiş ve kayıt altına alınmış meteor düşüşlerini içermektedir. Özellikle 20. yüzyıl öncesine ait verilerin eksik ya da hatalı olması, coğrafi dağılımın gerçekte olduğundan daha seyrek görünmesine neden olabilir. Benzer şekilde, şehir verisi de yalnızca günümüzdeki yerleşim birimlerini kapsamaktadır; tarihsel olarak var olmuş ama günümüzde haritada yer almayan yerleşimlerin etkisi göz ardı edilmiştir. Ayrıca, şehirlerin meteorlara yakınlığının neden-sonuç ilişkisi taşıyıp taşımadığı tam olarak belirlenememektedir. Analizler korelasyona dayalıdır; dolayısıyla meteor düşüşü mü yerleşimi tetiklemiştir, yoksa yoğun yerleşim alanlarında daha fazla meteor kaydı mı alınmıştır, bu ayrım net değildir. Son olarak, modellemelerde yalnızca coğrafi konum ve kıta bilgisi gibi sınırlı sayıda değişken kullanılmış, iklim, su kaynakları, topografya gibi yerleşimi etkileyen diğer faktörler dışarıda bırakılmıştır. Bu nedenle bulgular önemli bir ilişkiyi gösterse de, daha kapsamlı analizlerle desteklenmeye ihtiyaç duymaktadır."
   ]
  },
  {
   "cell_type": "markdown",
   "id": "6ce80178-33d8-46d8-b055-6ae164210fab",
   "metadata": {},
   "source": [
    "### 🚧 5. Çalışmanın Sınırlılıkları\n",
    "\n",
    "Bu araştırma, güçlü verilerle desteklenen bulgular sunsa da bazı önemli sınırlılıklar taşımaktadır:\n",
    "\n",
    "- 📉 **Meteor veri seti**, yalnızca tespit edilmiş ve kayıt altına alınmış meteor düşüşlerini içermektedir.  \n",
    "  Özellikle 20. yüzyıl öncesine ait kayıtların eksik veya hatalı olması, **coğrafi yoğunluğun eksik temsil edilmesine** yol açabilir.\n",
    "\n",
    "- 🗺️ **Şehir veri seti**, yalnızca günümüzdeki yerleşim alanlarını kapsamaktadır.  \n",
    "  Tarihsel olarak var olmuş ama günümüzde haritada yer almayan yerleşimlerin **analiz dışında kalması**, tarihsel örüntülerin eksik kalmasına neden olabilir.\n",
    "\n",
    "- 🔄 **Nedensellik sorunu**: Meteor düşüşü mü yerleşimi etkilemiştir, yoksa yerleşim bölgelerinde daha çok meteor mu gözlemlenmiştir?  \n",
    "  Bu araştırma korelasyon temellidir; **nedenselliği net olarak ortaya koyamamaktadır**.\n",
    "\n",
    "- 🧮 **Kısıtlı değişken seti**:  \n",
    "  Analizler yalnızca coğrafi konum ve kıta bilgisi gibi birkaç değişkene dayanmıştır.  \n",
    "  Oysa yerleşim kararlarını etkileyen pek çok faktör vardır:\n",
    "  - 🏞️ Topografya\n",
    "  - 💧 Su kaynakları\n",
    "  - 🌤️ İklim\n",
    "  - 🌋 Jeolojik yapı\n",
    "\n",
    "➡️ Bu nedenle sonuçlar **önemli bir coğrafi ilişkiyi gösterse de**, daha kapsamlı modellemelerle güçlendirilmelidir.\n"
   ]
  },
  {
   "cell_type": "markdown",
   "id": "9fad1ce4-d199-4a1f-b104-89ce19494071",
   "metadata": {},
   "source": [
    "🧪 6. Gelecek Araştırmalar İçin Öneriler\n",
    "Bu çalışmanın ortaya koyduğu bulgular, yeni araştırmalar için çok sayıda kapı aralamaktadır. Öncelikle, mevcut analiz yalnızca şehir konumları ile meteor düşüşleri arasındaki coğrafai ilişkiyi incelemiştir. Gelecekte bu modele yer altı kaynak haritaları, maden rezervleri, topografik özellikler ve su kaynakları gibi çevresel değişkenler eklenerek daha bütünsel bir değerlendirme yapılabilir. Ayrıca, tarihsel yerleşim noktaları (arkeolojik alanlar, antik şehirler vb.) da veri setine dahil edilerek bu ilişkinin zaman içindeki evrimi analiz edilebilir. Bunun yanında, mekânsal regresyon modelleri veya zamana duyarlı yapay zeka algoritmaları ile daha derinlemesine analizler yapılması önerilir. Meteor düşüşlerinin etkilediği alanlarda ekonomik faaliyetler, nüfus yoğunluğu ve gelişmişlik düzeyi gibi sosyoekonomik değişkenlerin de entegre edilmesi, çalışmanın daha geniş kapsamlı hale gelmesini sağlayacaktır. Son olarak, elde edilen modeller farklı kıtalarda veya bölgesel düzeyde tekrar test edilerek, bu ilişkinin evrensel mi yoksa yerel mi olduğu da ortaya konabilir."
   ]
  },
  {
   "cell_type": "markdown",
   "id": "b4e4208b-6d8d-4801-9f88-b6574f6840b3",
   "metadata": {},
   "source": [
    "### 🧪 6. Gelecek Araştırmalar İçin Öneriler\n",
    "\n",
    "Bu çalışmanın ortaya koyduğu bulgular, yeni araştırmalar için çok sayıda kapı aralamaktadır:\n",
    "\n",
    "- 🌍 **Çevresel Değişkenlerin Eklenmesi**:  \n",
    "  Bu analiz yalnızca şehir konumları ve meteor düşüşleri arasındaki mekânsal ilişkiyi ele almıştır.  \n",
    "  Gelecek çalışmalarda aşağıdaki verilerle daha bütünsel modeller kurulabilir:\n",
    "  - 🧭 Yer altı kaynak haritaları (maden rezervleri)\n",
    "  - 🗺️ Topografik eğim ve yükseklik verileri\n",
    "  - 💧 Su kaynakları ve hidrolojik veriler\n",
    "\n",
    "- 🏛️ **Tarihsel Yerleşimlerin Dahil Edilmesi**:  \n",
    "  Antik şehirler, arkeolojik alanlar gibi tarihsel veri setleri entegre edilerek,  \n",
    "  **yerleşim-meteor ilişkisi tarihsel bağlamda** da test edilebilir.\n",
    "\n",
    "- 🧠 **Gelişmiş Modellerin Kullanılması**:  \n",
    "  - Mekânsal regresyon modelleri (GWR, SAR)\n",
    "  - Zamana duyarlı yapay zeka yöntemleri (ör. LSTM, TCN)\n",
    "\n",
    "- 📊 **Sosyoekonomik Etkenlerin Analizi**:  \n",
    "  - Meteor düşüş bölgelerindeki ekonomik faaliyetlerin (madencilik, ticaret)\n",
    "  - Nüfus yoğunluğu, eğitim seviyesi, altyapı gelişmişliği gibi faktörlerle ilişkisi  \n",
    "  değerlendirilebilir.\n",
    "\n",
    "- 🌐 **Bölgesel ve Kıtasal Karşılaştırmalar**:  \n",
    "  - Model farklı kıtalarda tekrar test edilerek **ilişkinin evrensel mi yoksa bölgesel mi** olduğu analiz edilebilir.\n",
    "\n",
    "> 📌 Bu öneriler, çalışmanın kapsamını derinleştirerek daha güçlü bilimsel ve pratik sonuçlara ulaşılmasını sağlayacaktır.\n"
   ]
  },
  {
   "cell_type": "markdown",
   "id": "4a87ead6-065f-4d1b-baa0-7c53af2ba49e",
   "metadata": {},
   "source": [
    "🧩 7. Sonuç\n",
    "Bu proje, insan yerleşimlerinin coğrafi dağılımı ile meteor düşüş noktaları arasındaki ilişkiyi hem görsel hem istatistiksel yöntemlerle inceleyerek çarpıcı bulgular ortaya koymuştur. Hipotezimiz, insanların mineral ve maden açısından zengin bölgeleri –dolaylı olarak meteor düşüş alanlarını– tercih ettiği yönündeydi. 38.000’den fazla meteor düşüş verisi ile 7.300’den fazla şehir konumunun analiz edilmesiyle, şehirlerin %85.49’unun en yakın meteora 500 km'den daha kısa mesafede yer aldığı görülmüştür. Bu oran, yalnızca görsel değil, aynı zamanda istatistiksel olarak da anlamlı bir coğrafi yakınlığı işaret etmektedir.\n",
    "\n",
    "Uygulanan makine öğrenmesi modelleri, bu coğrafi yakınlığı kullanarak şehirlerin “meteor yakını” olup olmadığını yüksek doğrulukla tahmin edebilmiştir. Özellikle mesafe değişkeni çıkarıldığında model performanslarının belirgin şekilde düşmesi, mesafenin belirleyici bir etken olduğunu açıkça göstermektedir. Ayrıca coğrafi kümeleme analizleri (DBSCAN ve HDBSCAN), meteorların belirli bölgelerde yoğunlaştığını ve bu bölgelerin çoğunun yerleşim bölgeleriyle örtüştüğünü göstermiştir. Zaman serisi analizinde ise, 1950 sonrası meteor kayıtlarındaki hızlı artışın şehirleşme ve gözlem teknolojileriyle paralel olarak gerçekleştiği ortaya çıkmıştır.\n",
    "\n",
    "Tüm bu bulgular bir araya geldiğinde, hipotezimizin güçlü bir şekilde desteklendiği sonucuna varılabilir: İnsanlar tarih boyunca meteor düşüşlerinin meydana geldiği coğrafi olarak avantajlı bölgelerde yaşam kurmuşlardır. Bu durum, yalnızca tarihsel bir eğilim değil, aynı zamanda günümüz şehirleşme dinamiklerine dair yeni bir bakış açısı sunmaktadır. Çalışmamız, veri bilimi ve mekânsal analiz yöntemlerinin birlikte kullanıldığında nasıl güçlü hipotezleri test edebileceğini ve karmaşık ilişkileri açığa çıkarabileceğini göstermektedir.\n"
   ]
  },
  {
   "cell_type": "markdown",
   "id": "d7d53e07-c6e6-4cfb-b1e8-685f7ae6ad19",
   "metadata": {},
   "source": [
    "### 🧩 7. Sonuç\r\n",
    "\r\n",
    "Bu proje, insan yerleşimlerinin coğrafi dağılımı ile meteor düşüş noktaları arasındaki ilişkiyi hem **görsel hem de istatistiksel** yöntemlerle inceleyerek çarpıcı bulgular ortaya koymuştur.  \r\n",
    "\r\n",
    "🎯 **Hipotezimiz**: İnsanlar, mineral ve maden açısından zengin bölgeleri –dolaylı olarak meteor düşüş alanlarını– tarih boyunca yerleşim için tercih etmiştir.\r\n",
    "\r\n",
    "📊 **Veri Temeli**:\r\n",
    "- 38.000’den fazla meteor düşüş kaydı\r\n",
    "- 7.300’den fazla şehir konumu\r\n",
    "- Her şehir için meteora olan minimum mesafe hesaplandı\r\n",
    "\r\n",
    "🔍 **Ana Bulgular**:\r\n",
    "- Şehirlerin **%85.49’u**, en yakın meteora **500 km’den daha kısa mesafede** yer alıyor.\r\n",
    "- Bu oran, **rastgele dağılımdan farklı**, anlamlı bir coğrafi örüntüye işaret ediyor.\r\n",
    "\r\n",
    "🧠 **Makine Öğrenmesi Modelleri**:\r\n",
    "- Logistic Regression, Random Forest, XGBoost gibi algoritmalar, meteor yakınlığını yüksek doğrulukla tahmin etti.\r\n",
    "- Mesafe özelliği çıkarıldığında performans düştü → mesafenin belirleyici rolü netleşti.\r\n",
    "\r\n",
    "🌐 **Kümeleme Analizi**:\r\n",
    "- DBSCAN ve HDBSCAN ile meteorlar **coğrafi olarak kümelendi**.\r\n",
    "- Bu kümelerle şehir konumları **büyük ölçüde örtüştü**.\r\n",
    "\r\n",
    "⏳ **Zaman Serisi Analizi**:\r\n",
    "- 1950 sonrası meteor kayıtlarında **belirgin artış**\r\n",
    "- Şehirleşme ve gözlem teknolojilerindeki gelişim ile paralel\r\n",
    "\r\n",
    "---\r\n",
    "\r\n",
    "### ✅ Genel Değerlendirme:\r\n",
    "\r\n",
    "Tüm bu bulgular bir araya geldiğinde, hipotezimiz güçlü bir şekilde desteklenmektedir:  \r\n",
    "> **İnsanlar tarih boyunca meteor düşüşlerinin meydana geldiği, coğrafi olarak avantajlı bölgelerde yaşam kurmuştur.**\r\n",
    "\r\n",
    "Bu durum yalnızca tarihsel değil, **günümüz şehirleşme dinamikleri** için de yeni bir bakış açısı sunmaktadır.  \r\n",
    "Bu çalışma, **veri bilimi** ve **mekânsal analiz tekniklerinin** bir araya gelerek nasıl güçlü hipotezleri test edebileceğini ortaya koymaktadır.\r\n",
    "bileceğini ve karmaşık ilişkileri açığa çıkarabileceğini göstermektedir."
   ]
  },
  {
   "cell_type": "markdown",
   "id": "04904469-ef29-42cd-ac98-453c27cd8438",
   "metadata": {},
   "source": [
    "🛠️ 8. Uygulama ve Politika Önerileri\n",
    "Bu çalışmanın bulguları yalnızca akademik düzeyde değil, aynı zamanda pratikte de kullanılabilir bir potansiyele sahiptir. Meteor düşüşlerinin yerleşim alanlarıyla olan yakınlığı, yer altı kaynaklarının dağılımı ve jeolojik zenginlik açısından önemli ipuçları sunar. Bu bağlamda, maden arama faaliyetlerinde meteor geçmişine sahip bölgeler öncelikli hale getirilebilir. Aynı şekilde, şehir planlama ve bölgesel kalkınma stratejileri geliştirilirken, bu tür doğal zenginlik alanlarının çevresel sürdürülebilirlik ve ekonomik değer açısından değerlendirilmesi önerilir.\n",
    "\n",
    "Ayrıca, acil durum yönetimi ve afet risk analizi kapsamında, meteorların düştüğü bölgelerin tarihsel izlerinin dijital haritalar aracılığıyla entegre edilmesi, yeni nesil afet yönetim politikaları için faydalı olabilir. Eğitim politikaları açısından ise bu tür disiplinler arası analizlerin lise ve üniversite düzeyinde ders içeriklerine entegre edilmesi, öğrencilerin veri okuryazarlığı ve coğrafi farkındalık düzeyini artırabilir. Son olarak, uzay ajansları ve bilim kurumları için bu tür çalışmalar, meteoritik izlerin ekonomik, ekolojik ve sosyolojik etkilerinin daha iyi anlaşılması adına değerli katkılar sunabilir."
   ]
  },
  {
   "cell_type": "markdown",
   "id": "926c5b85-dcba-4ede-8d0d-b8e790ba75f1",
   "metadata": {},
   "source": [
    "### 🛠️ 8. Uygulama ve Politika Önerileri\n",
    "\n",
    "Bu çalışmanın bulguları yalnızca akademik düzeyde değil, aynı zamanda **uygulamalı alanlarda da değerlendirilebilecek** potansiyele sahiptir.\n",
    "\n",
    "🔍 **Jeolojik ve Ekonomik Kullanımlar**  \n",
    "Meteor düşüşlerinin yerleşim alanlarıyla olan yakınlığı, yer altı kaynaklarının dağılımı ve **jeolojik zenginlik** açısından önemli ipuçları sunmaktadır.  \n",
    "- Maden arama faaliyetlerinde, **meteor geçmişi olan bölgeler öncelikli** değerlendirilebilir.  \n",
    "- Şehir planlama ve **bölgesel kalkınma** stratejileri bu doğal zenginlikler ışığında şekillendirilebilir.\n",
    "\n",
    "🌍 **Afet ve Risk Yönetimi**  \n",
    "Meteor düşüş geçmişi olan bölgeler, **afet izleme ve risk analizi** kapsamında dijital haritalara entegre edilerek:\n",
    "- Erken uyarı sistemlerine katkı sağlayabilir\n",
    "- Gelecekteki meteorolojik olaylara karşı hazırlık düzeyini artırabilir\n",
    "\n",
    "📚 **Eğitim ve Bilim Politikaları**  \n",
    "- Bu tür disiplinler arası analizlerin, **lise ve üniversite** müfredatlarında yer alması,\n",
    "  - Veri okuryazarlığı\n",
    "  - Coğrafi farkındalık\n",
    "  - Mekânsal düşünme becerilerini geliştirebilir.\n",
    "  \n",
    "🚀 **Uzay Araştırmaları ve Kurumsal Kullanım**  \n",
    "- Uzay ajansları ve bilim kurumları için,\n",
    "  - **meteoritik izlerin** ekonomik, ekolojik ve sosyolojik etkilerinin anlaşılması açısından\n",
    "  - değerli bir altyapı sunmaktadır.\n",
    "\n",
    "> 🌟 Bu öneriler, çalışmanın yalnızca geçmişi anlamaya değil, **geleceği planlamaya da hizmet eden** bir niteliğe sahip olduğunu göstermektedir.\n"
   ]
  },
  {
   "cell_type": "markdown",
   "id": "a7358e8a-7d28-4fd2-9ed6-fdfc738f8965",
   "metadata": {},
   "source": [
    "🧭 9. Genel Değerlendirme ve Kapanış\n",
    "Bu proje, bilimsel merakla yola çıkılan bir hipotezin veri bilimi, mekânsal analiz ve makine öğrenmesi teknikleriyle nasıl güçlü bir şekilde test edilebileceğini göstermiştir. İnsan yerleşimlerinin, meteor düşüş alanlarıyla olan coğrafi ilişkisi, hem görselleştirmeler hem de istatistiksel modelleme yoluyla detaylı bir şekilde incelenmiştir. Elde edilen bulgular, şehirlerin rastgele değil, anlamlı bir düzen içerisinde —özellikle maden ve mineral açısından zengin bölgelerde— konumlandığını ortaya koymaktadır.\n",
    "\n",
    "Kullanılan veri setleri, analiz teknikleri ve görsel destekler sayesinde, hipotez yalnızca doğrulanmakla kalmamış, aynı zamanda bu ilişkinin doğası hakkında daha derinlemesine çıkarımlar yapılabilmiştir. Çalışmanın çıktıları, akademik dünyanın yanı sıra şehir planlama, doğal kaynak yönetimi, afet riski değerlendirme ve eğitim gibi birçok alanda da uygulanabilir öneriler sunmaktadır.\n",
    "\n",
    "Sonuç olarak, bu proje yalnızca bir veri bilimi çalışması değil, aynı zamanda disiplinler arası bir keşif yolculuğudur. Geçmişin izlerini modern teknolojilerle takip ederek, insan yerleşimlerinin doğal çevreyle olan ilişkisini yeniden düşünmemize olanak tanımıştır. Bu yönüyle proje, hem metodolojik hem de kavramsal anlamda güçlü bir katkı sunmaktadır."
   ]
  },
  {
   "cell_type": "markdown",
   "id": "d9ac5231-76d4-484a-9669-11f3199a79bc",
   "metadata": {},
   "source": [
    "### 🧭 9. Genel Değerlendirme ve Kapanış\n",
    "\n",
    "Bu proje, **bilimsel bir hipotezin**, veri bilimi, mekânsal analiz ve makine öğrenmesi teknikleriyle nasıl güçlü bir biçimde test edilebileceğini ortaya koymuştur.  \n",
    "İnsan yerleşimlerinin meteor düşüş alanlarıyla olan **coğrafi ilişkisi**, hem görselleştirme hem de istatistiksel modelleme yoluyla detaylı olarak incelenmiştir.\n",
    "\n",
    "🔍 **Elde edilen bulgular:**\n",
    "- Şehirler rastgele dağılmamış; **özellikle maden ve mineral açısından zengin** bölgelerde konumlanmıştır.\n",
    "- Hipotez, yalnızca doğrulanmakla kalmamış; **ilişkinin doğası** hakkında derinlemesine içgörüler sunulmuştur.\n",
    "\n",
    "📌 **Çok yönlü katkılar:**\n",
    "- Akademik: Hipotez temelli mekânsal modelleme yaklaşımı\n",
    "- Pratik: Şehir planlama, doğal kaynak yönetimi, afet riski analizi, eğitim uygulamaları\n",
    "- Kavramsal: İnsan–doğa etkileşimini yeniden düşünmeye yönlendirme\n",
    "\n",
    "🎯 **Sonuç olarak:**\n",
    "Bu proje yalnızca bir veri bilimi uygulaması değil, aynı zamanda disiplinler arası bir **keşif yolculuğudur**.  \n",
    "Geçmişin izlerini modern teknolojilerle takip ederek, **yerleşimlerin doğal çevreyle olan ilişkisini** yeniden değerlendirmemizi sağlamıştır.  \n",
    "Bu yönüyle çalışma, hem metodolojik hem de kavramsal olarak **güçlü bir bilimsel katkı** sunmaktadır.\n"
   ]
  },
  {
   "cell_type": "code",
   "execution_count": null,
   "id": "e1e8c800-574a-43fb-9318-61915bec4747",
   "metadata": {},
   "outputs": [],
   "source": []
  }
 ],
 "metadata": {
  "kernelspec": {
   "display_name": "Python 3 (ipykernel)",
   "language": "python",
   "name": "python3"
  },
  "language_info": {
   "codemirror_mode": {
    "name": "ipython",
    "version": 3
   },
   "file_extension": ".py",
   "mimetype": "text/x-python",
   "name": "python",
   "nbconvert_exporter": "python",
   "pygments_lexer": "ipython3",
   "version": "3.11.7"
  }
 },
 "nbformat": 4,
 "nbformat_minor": 5
}
